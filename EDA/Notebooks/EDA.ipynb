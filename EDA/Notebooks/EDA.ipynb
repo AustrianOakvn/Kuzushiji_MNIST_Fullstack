{
 "cells": [
  {
   "cell_type": "code",
   "execution_count": null,
   "metadata": {},
   "outputs": [],
   "source": [
    "import time\n",
    "import matplotlib.pytplot as plt\n",
    "import numpy as np\n",
    "import os\n",
    "import pandas as pd\n",
    "from sklearn.manifold import TSNE\n",
    "\n",
    "from hydra import initialize, initialize_config_module, initialize_config_dir, compose\n",
    "from omegaconf import OmegaConf"
   ]
  },
  {
   "cell_type": "code",
   "execution_count": null,
   "metadata": {},
   "outputs": [],
   "source": [
    "HOME_PATH = \"../../..\"\n",
    "with initialize(config_path=\"../../../config\"):\n",
    "    data_path_cfg = compose(config_name=\"data_path\")\n",
    "data_path_cfg = OmegaConf.create(data_path_cfg)"
   ]
  },
  {
   "cell_type": "markdown",
   "metadata": {},
   "source": [
    "### File path"
   ]
  },
  {
   "cell_type": "code",
   "execution_count": null,
   "metadata": {},
   "outputs": [],
   "source": [
    "TRAIN_IMGS_PATH = data_path_cfg.k_mnist.train_imgs\n",
    "TEST_IMGS_PATH = data_path_cfg.k_mnist.test_imgs\n",
    "TRAIN_LABELS_PATH = data_path_cfg.k_mnist.train_labels\n",
    "TEST_LABELS_PATH = data_path_cfg.k_mnist.test_labels"
   ]
  },
  {
   "cell_type": "code",
   "execution_count": null,
   "metadata": {},
   "outputs": [],
   "source": [
    "train_images = np.load(os.path.join(HOME_PATH, TRAIN_IMGS_PATH))['arr_0']\n",
    "test_images = np.load(os.path.join(HOME_PATH, TEST_IMGS_PATH))['arr_0']\n",
    "train_labels = np.load(os.path.join(HOME_PATH, TEST_IMGS_PATH))['arr_0']\n",
    "test_labels = np.load(os.path.join(HOME_PATH, TEST_LABELS_PATH))['arr_0']"
   ]
  },
  {
   "cell_type": "code",
   "execution_count": null,
   "metadata": {},
   "outputs": [],
   "source": [
    "plt.figure()\n",
    "plt.imshow(train_images[0])\n",
    "plt.colorbar()\n",
    "plt.grid(False)"
   ]
  },
  {
   "cell_type": "code",
   "execution_count": null,
   "metadata": {},
   "outputs": [],
   "source": [
    "train_images = train_images /255.0\n",
    "test_images = test_images / 255.0"
   ]
  },
  {
   "cell_type": "code",
   "execution_count": null,
   "metadata": {},
   "outputs": [],
   "source": [
    "plt.figure(figsize=(10,10))\n",
    "for i in range(25):\n",
    "    plt.subplot(5,5,i+1)\n",
    "    plt.xticks([])\n",
    "    plt.yticks([])\n",
    "    plt.grid(False)\n",
    "    plt.imshow(train_images[i], cmap=plt.cm.binary)\n",
    "    plt.xlabel(train_labels[i])"
   ]
  },
  {
   "cell_type": "code",
   "execution_count": null,
   "metadata": {},
   "outputs": [],
   "source": [
    "# Sample from the training set\n",
    "sample_size = 8000\n",
    "\n",
    "np.random.seed(2018)\n",
    "idx = np.random.choice(60000, size=sample_size, replace=False)\n",
    "train_sample = train_images.reshape(60000, -1)[idx, :]\n",
    "label_sample = train_labels[idx]\n",
    "\n",
    "# Generate 2D embedding with TSNE\n",
    "embeddings = TSNE(verbose=2).fit_transform(train_sample)"
   ]
  },
  {
   "cell_type": "code",
   "execution_count": null,
   "metadata": {},
   "outputs": [],
   "source": []
  },
  {
   "cell_type": "code",
   "execution_count": null,
   "metadata": {},
   "outputs": [],
   "source": []
  },
  {
   "cell_type": "code",
   "execution_count": null,
   "metadata": {},
   "outputs": [],
   "source": []
  }
 ],
 "metadata": {
  "language_info": {
   "name": "python"
  },
  "orig_nbformat": 4
 },
 "nbformat": 4,
 "nbformat_minor": 2
}
